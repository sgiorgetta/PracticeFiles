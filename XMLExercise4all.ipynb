{
 "cells": [
  {
   "cell_type": "markdown",
   "metadata": {},
   "source": [
    "# Answer to Question 4 of Exercises"
   ]
  },
  {
   "cell_type": "code",
   "execution_count": 1,
   "metadata": {
    "collapsed": true
   },
   "outputs": [],
   "source": [
    "# import pandas and numpy in case we need them\n",
    "import pandas as pd\n",
    "import numpy as np"
   ]
  },
  {
   "cell_type": "code",
   "execution_count": 2,
   "metadata": {
    "collapsed": true
   },
   "outputs": [],
   "source": [
    "from xml.etree import ElementTree as ET"
   ]
  },
  {
   "cell_type": "code",
   "execution_count": 3,
   "metadata": {
    "collapsed": false
   },
   "outputs": [],
   "source": [
    "# find the unique tag names that are in the xml file\n",
    "\n",
    "document_tree = ET.parse( './data/mondial_database.xml' )\n",
    "root = document_tree.getroot()\n",
    "tags = []\n",
    "for elementtag in document_tree.getiterator():\n",
    "    tagname = elementtag.tag\n",
    "    if (tagname in tags[:]):\n",
    "        tags = tags  \n",
    "    else: \n",
    "        tags.append(tagname)"
   ]
  },
  {
   "cell_type": "code",
   "execution_count": 4,
   "metadata": {
    "collapsed": false
   },
   "outputs": [
    {
     "data": {
      "text/plain": [
       "['mondial',\n",
       " 'country',\n",
       " 'name',\n",
       " 'population',\n",
       " 'population_growth',\n",
       " 'infant_mortality',\n",
       " 'gdp_total',\n",
       " 'gdp_agri',\n",
       " 'gdp_ind',\n",
       " 'gdp_serv',\n",
       " 'inflation',\n",
       " 'unemployment',\n",
       " 'indep_date',\n",
       " 'government',\n",
       " 'encompassed',\n",
       " 'ethnicgroup',\n",
       " 'religion',\n",
       " 'language',\n",
       " 'border',\n",
       " 'city',\n",
       " 'latitude',\n",
       " 'longitude',\n",
       " 'located_at',\n",
       " 'localname',\n",
       " 'province',\n",
       " 'area',\n",
       " 'located_on',\n",
       " 'dependent',\n",
       " 'elevation',\n",
       " 'continent',\n",
       " 'organization',\n",
       " 'abbrev',\n",
       " 'established',\n",
       " 'members',\n",
       " 'sea',\n",
       " 'located',\n",
       " 'depth',\n",
       " 'river',\n",
       " 'to',\n",
       " 'length',\n",
       " 'source',\n",
       " 'estuary',\n",
       " 'through',\n",
       " 'from',\n",
       " 'mountains',\n",
       " 'lake',\n",
       " 'island',\n",
       " 'islands',\n",
       " 'mountain',\n",
       " 'desert',\n",
       " 'airport',\n",
       " 'gmtOffset']"
      ]
     },
     "execution_count": 4,
     "metadata": {},
     "output_type": "execute_result"
    }
   ],
   "source": [
    "tags"
   ]
  },
  {
   "cell_type": "code",
   "execution_count": 5,
   "metadata": {
    "collapsed": true
   },
   "outputs": [],
   "source": [
    "# Take note of the tag names: lake, depth, river, length, airport, elevation\n",
    "# Pull up the mondial xml file and do an edit/search on these tags to obtain the structure of the tree\n",
    "# Note that the geographical data is not under the element 'country'\n",
    "# Note that the country will need to be extracted from the attribute 'country=' of tag 'located' which will return a country code\n",
    "# The name of the country will then be found by searching on tag 'country' with attribute car_code= \n",
    "# Note that rivers and lakes may be in more than one country"
   ]
  },
  {
   "cell_type": "code",
   "execution_count": 6,
   "metadata": {
    "collapsed": true
   },
   "outputs": [],
   "source": [
    "# create a lookup table for country code/name\n",
    "lookuptable = []\n",
    "for country in root.iterfind('country'):\n",
    "    country_name = country.find('name').text\n",
    "    country_code = country.get('car_code')\n",
    "    lookuptable.append([country_code, country_name])\n",
    "df_countrytable = pd.DataFrame(lookuptable, columns= ['code','country'])"
   ]
  },
  {
   "cell_type": "code",
   "execution_count": 7,
   "metadata": {
    "collapsed": false
   },
   "outputs": [
    {
     "data": {
      "text/html": [
       "<div>\n",
       "<table border=\"1\" class=\"dataframe\">\n",
       "  <thead>\n",
       "    <tr style=\"text-align: right;\">\n",
       "      <th></th>\n",
       "      <th>country</th>\n",
       "    </tr>\n",
       "    <tr>\n",
       "      <th>code</th>\n",
       "      <th></th>\n",
       "    </tr>\n",
       "  </thead>\n",
       "  <tbody>\n",
       "    <tr>\n",
       "      <th>A</th>\n",
       "      <td>Austria</td>\n",
       "    </tr>\n",
       "    <tr>\n",
       "      <th>AFG</th>\n",
       "      <td>Afghanistan</td>\n",
       "    </tr>\n",
       "    <tr>\n",
       "      <th>AG</th>\n",
       "      <td>Antigua and Barbuda</td>\n",
       "    </tr>\n",
       "    <tr>\n",
       "      <th>AL</th>\n",
       "      <td>Albania</td>\n",
       "    </tr>\n",
       "    <tr>\n",
       "      <th>AMSA</th>\n",
       "      <td>American Samoa</td>\n",
       "    </tr>\n",
       "  </tbody>\n",
       "</table>\n",
       "</div>"
      ],
      "text/plain": [
       "                  country\n",
       "code                     \n",
       "A                 Austria\n",
       "AFG           Afghanistan\n",
       "AG    Antigua and Barbuda\n",
       "AL                Albania\n",
       "AMSA       American Samoa"
      ]
     },
     "execution_count": 7,
     "metadata": {},
     "output_type": "execute_result"
    }
   ],
   "source": [
    "# set the code column as the index\n",
    "df_countrytable_indexed = df_countrytable.set_index('code').sort_index()\n",
    "df_countrytable_indexed.head()"
   ]
  },
  {
   "cell_type": "markdown",
   "metadata": {},
   "source": [
    "# Find airport at highest elevation"
   ]
  },
  {
   "cell_type": "code",
   "execution_count": 10,
   "metadata": {
    "collapsed": true
   },
   "outputs": [],
   "source": [
    "\n",
    "# create a list of lists containing the aiport name, elevation, and countrycode\n",
    "airports = []\n",
    "for airport in root.iterfind('airport'):\n",
    "    airportname = airport.find('name').text\n",
    "    elevation = airport.find('elevation').text   \n",
    "    country_code = airport.get('country')\n",
    "    if elevation != None:\n",
    "        airports.append([elevation, airportname, country_code])\n",
    "df_airports = pd.DataFrame(airports, columns= ['elevation','airport','countrycode'])  "
   ]
  },
  {
   "cell_type": "code",
   "execution_count": 11,
   "metadata": {
    "collapsed": false
   },
   "outputs": [
    {
     "data": {
      "text/html": [
       "<div>\n",
       "<table border=\"1\" class=\"dataframe\">\n",
       "  <thead>\n",
       "    <tr style=\"text-align: right;\">\n",
       "      <th></th>\n",
       "      <th>elevation</th>\n",
       "      <th>airport</th>\n",
       "      <th>countrycode</th>\n",
       "    </tr>\n",
       "  </thead>\n",
       "  <tbody>\n",
       "    <tr>\n",
       "      <th>0</th>\n",
       "      <td>977</td>\n",
       "      <td>Herat</td>\n",
       "      <td>AFG</td>\n",
       "    </tr>\n",
       "    <tr>\n",
       "      <th>1</th>\n",
       "      <td>1792</td>\n",
       "      <td>Kabul Intl</td>\n",
       "      <td>AFG</td>\n",
       "    </tr>\n",
       "    <tr>\n",
       "      <th>2</th>\n",
       "      <td>38</td>\n",
       "      <td>Tirana Rinas</td>\n",
       "      <td>AL</td>\n",
       "    </tr>\n",
       "    <tr>\n",
       "      <th>3</th>\n",
       "      <td>811</td>\n",
       "      <td>Cheikh Larbi Tebessi</td>\n",
       "      <td>DZ</td>\n",
       "    </tr>\n",
       "    <tr>\n",
       "      <th>4</th>\n",
       "      <td>822</td>\n",
       "      <td>Batna Airport</td>\n",
       "      <td>DZ</td>\n",
       "    </tr>\n",
       "    <tr>\n",
       "      <th>5</th>\n",
       "      <td>6</td>\n",
       "      <td>Soummam</td>\n",
       "      <td>DZ</td>\n",
       "    </tr>\n",
       "    <tr>\n",
       "      <th>6</th>\n",
       "      <td>1377</td>\n",
       "      <td>Tamanrasset</td>\n",
       "      <td>DZ</td>\n",
       "    </tr>\n",
       "    <tr>\n",
       "      <th>7</th>\n",
       "      <td>88</td>\n",
       "      <td>Biskra</td>\n",
       "      <td>DZ</td>\n",
       "    </tr>\n",
       "    <tr>\n",
       "      <th>8</th>\n",
       "      <td>691</td>\n",
       "      <td>Mohamed Boudiaf Intl</td>\n",
       "      <td>DZ</td>\n",
       "    </tr>\n",
       "    <tr>\n",
       "      <th>9</th>\n",
       "      <td>1024</td>\n",
       "      <td>Ain Arnat Airport</td>\n",
       "      <td>DZ</td>\n",
       "    </tr>\n",
       "  </tbody>\n",
       "</table>\n",
       "</div>"
      ],
      "text/plain": [
       "  elevation               airport countrycode\n",
       "0       977                 Herat         AFG\n",
       "1      1792            Kabul Intl         AFG\n",
       "2        38          Tirana Rinas          AL\n",
       "3       811  Cheikh Larbi Tebessi          DZ\n",
       "4       822         Batna Airport          DZ\n",
       "5         6               Soummam          DZ\n",
       "6      1377           Tamanrasset          DZ\n",
       "7        88                Biskra          DZ\n",
       "8       691  Mohamed Boudiaf Intl          DZ\n",
       "9      1024     Ain Arnat Airport          DZ"
      ]
     },
     "execution_count": 11,
     "metadata": {},
     "output_type": "execute_result"
    }
   ],
   "source": [
    "df_airports.head(10)"
   ]
  },
  {
   "cell_type": "code",
   "execution_count": 12,
   "metadata": {
    "collapsed": true
   },
   "outputs": [],
   "source": [
    "# set the datatype of column 'elevation' to integer type\n",
    "df_airports['elevation'] = df_airports['elevation'].astype('int')"
   ]
  },
  {
   "cell_type": "code",
   "execution_count": 13,
   "metadata": {
    "collapsed": true
   },
   "outputs": [],
   "source": [
    "# sort the dataframe by 'elevation' in descending order\n",
    "df_airports_sorted = df_airports.sort_values(by='elevation', ascending=False)"
   ]
  },
  {
   "cell_type": "code",
   "execution_count": 14,
   "metadata": {
    "collapsed": true
   },
   "outputs": [],
   "source": [
    "# define series s as the top row of the airports data frame\n",
    "s = df_airports_sorted.iloc[0]"
   ]
  },
  {
   "cell_type": "code",
   "execution_count": 15,
   "metadata": {
    "collapsed": false
   },
   "outputs": [
    {
     "data": {
      "text/plain": [
       "elevation              4063\n",
       "airport        El Alto Intl\n",
       "countrycode             BOL\n",
       "Name: 80, dtype: object"
      ]
     },
     "execution_count": 15,
     "metadata": {},
     "output_type": "execute_result"
    }
   ],
   "source": [
    "s"
   ]
  },
  {
   "cell_type": "code",
   "execution_count": 16,
   "metadata": {
    "collapsed": false
   },
   "outputs": [
    {
     "data": {
      "text/plain": [
       "country    Bolivia\n",
       "Name: BOL, dtype: object"
      ]
     },
     "execution_count": 16,
     "metadata": {},
     "output_type": "execute_result"
    }
   ],
   "source": [
    "# use the countrycode from s to locate the country name in the data frame table df_countrytable_indexed\n",
    "df_countrytable_indexed.loc[s.loc['countrycode']] "
   ]
  },
  {
   "cell_type": "code",
   "execution_count": 17,
   "metadata": {
    "collapsed": false,
    "scrolled": true
   },
   "outputs": [
    {
     "name": "stderr",
     "output_type": "stream",
     "text": [
      "C:\\Users\\sgior\\Anaconda2\\lib\\site-packages\\ipykernel\\__main__.py:2: SettingWithCopyWarning: \n",
      "A value is trying to be set on a copy of a slice from a DataFrame\n",
      "\n",
      "See the caveats in the documentation: http://pandas.pydata.org/pandas-docs/stable/indexing.html#indexing-view-versus-copy\n",
      "  from ipykernel import kernelapp as app\n",
      "C:\\Users\\sgior\\Anaconda2\\lib\\site-packages\\pandas\\core\\series.py:747: SettingWithCopyWarning: \n",
      "A value is trying to be set on a copy of a slice from a DataFrame\n",
      "\n",
      "See the caveats in the documentation: http://pandas.pydata.org/pandas-docs/stable/indexing.html#indexing-view-versus-copy\n",
      "  self.loc[key] = value\n"
     ]
    }
   ],
   "source": [
    "# add 'country' to s so s will contain elevation, airport name, country code, and country name\n",
    "s['country'] = df_countrytable_indexed.loc[s.loc['countrycode']] "
   ]
  },
  {
   "cell_type": "code",
   "execution_count": 18,
   "metadata": {
    "collapsed": false
   },
   "outputs": [
    {
     "data": {
      "text/plain": [
       "elevation                                             4063\n",
       "airport                                       El Alto Intl\n",
       "countrycode                                            BOL\n",
       "country        country    Bolivia\n",
       "Name: BOL, dtype: object\n",
       "Name: 80, dtype: object"
      ]
     },
     "execution_count": 18,
     "metadata": {},
     "output_type": "execute_result"
    }
   ],
   "source": [
    "s"
   ]
  },
  {
   "cell_type": "markdown",
   "metadata": {
    "collapsed": true
   },
   "source": [
    "# Find Deepest Lake"
   ]
  },
  {
   "cell_type": "code",
   "execution_count": 8,
   "metadata": {
    "collapsed": true
   },
   "outputs": [],
   "source": [
    "lakes = []\n",
    "for lake in root.iterfind('lake'):\n",
    "    lakename = lake.find('name').text\n",
    "    lakedepth = lake.find('depth')   \n",
    "    country_code = lake.get('country')\n",
    "    if lakedepth != None:\n",
    "        lakes.append([float(lakedepth.text), lakename, country_code])\n",
    "df_lakes = pd.DataFrame(lakes, columns= ['depth','lake','countrycode'])    "
   ]
  },
  {
   "cell_type": "code",
   "execution_count": 9,
   "metadata": {
    "collapsed": true
   },
   "outputs": [],
   "source": [
    "df_lakes_sorted = df_lakes.sort_values(by='depth', ascending=False)"
   ]
  },
  {
   "cell_type": "code",
   "execution_count": 10,
   "metadata": {
    "collapsed": true
   },
   "outputs": [],
   "source": [
    "s = df_lakes_sorted.iloc[0]"
   ]
  },
  {
   "cell_type": "code",
   "execution_count": 14,
   "metadata": {
    "collapsed": true
   },
   "outputs": [],
   "source": [
    "index = s.loc['countrycode']"
   ]
  },
  {
   "cell_type": "code",
   "execution_count": 15,
   "metadata": {
    "collapsed": false
   },
   "outputs": [
    {
     "data": {
      "text/plain": [
       "'Russia'"
      ]
     },
     "execution_count": 15,
     "metadata": {},
     "output_type": "execute_result"
    }
   ],
   "source": [
    "df_countrytable_indexed.loc[index,'country'] "
   ]
  },
  {
   "cell_type": "code",
   "execution_count": 16,
   "metadata": {
    "collapsed": false
   },
   "outputs": [
    {
     "name": "stderr",
     "output_type": "stream",
     "text": [
      "C:\\Users\\sgior\\Anaconda2\\lib\\site-packages\\ipykernel\\__main__.py:1: SettingWithCopyWarning: \n",
      "A value is trying to be set on a copy of a slice from a DataFrame\n",
      "\n",
      "See the caveats in the documentation: http://pandas.pydata.org/pandas-docs/stable/indexing.html#indexing-view-versus-copy\n",
      "  if __name__ == '__main__':\n"
     ]
    }
   ],
   "source": [
    "s['country'] = df_countrytable_indexed.loc[index,'country'] "
   ]
  },
  {
   "cell_type": "code",
   "execution_count": 17,
   "metadata": {
    "collapsed": false
   },
   "outputs": [
    {
     "data": {
      "text/plain": [
       "depth                  1637\n",
       "lake           Ozero Baikal\n",
       "countrycode               R\n",
       "country              Russia\n",
       "Name: 42, dtype: object"
      ]
     },
     "execution_count": 17,
     "metadata": {},
     "output_type": "execute_result"
    }
   ],
   "source": [
    "s"
   ]
  },
  {
   "cell_type": "markdown",
   "metadata": {},
   "source": [
    "# Longest River"
   ]
  },
  {
   "cell_type": "code",
   "execution_count": 18,
   "metadata": {
    "collapsed": true
   },
   "outputs": [],
   "source": [
    "# create a list of lists containing river name, river length, and country code and load into a data frame called df_rivers\n",
    "rivers = []\n",
    "for river in root.iterfind('river'):\n",
    "    rivername = river.find('name').text\n",
    "    riverlength = river.find('length')   \n",
    "    country_code = river.get('country')\n",
    "    if riverlength != None:\n",
    "        rivers.append([float(riverlength.text), rivername, country_code])\n",
    "df_rivers = pd.DataFrame(rivers, columns= ['length','river','countrycode'])    "
   ]
  },
  {
   "cell_type": "code",
   "execution_count": 19,
   "metadata": {
    "collapsed": true
   },
   "outputs": [],
   "source": [
    "# sort the data frame by length of rivers in descending order\n",
    "df_rivers_sorted = df_rivers.sort_values(by= 'length', ascending = False)"
   ]
  },
  {
   "cell_type": "code",
   "execution_count": 20,
   "metadata": {
    "collapsed": true
   },
   "outputs": [],
   "source": [
    "# slice off the top row which contains the longest river\n",
    "s = df_rivers_sorted.iloc[0]"
   ]
  },
  {
   "cell_type": "code",
   "execution_count": 21,
   "metadata": {
    "collapsed": false
   },
   "outputs": [
    {
     "data": {
      "text/plain": [
       "length             6448\n",
       "river          Amazonas\n",
       "countrycode    CO BR PE\n",
       "Name: 174, dtype: object"
      ]
     },
     "execution_count": 21,
     "metadata": {},
     "output_type": "execute_result"
    }
   ],
   "source": [
    "s"
   ]
  },
  {
   "cell_type": "code",
   "execution_count": 22,
   "metadata": {
    "collapsed": true
   },
   "outputs": [],
   "source": [
    "# the countrycode contains more than one country so create a list of the codes using split on white space\n",
    "list_of_codes = s['countrycode'].split()"
   ]
  },
  {
   "cell_type": "code",
   "execution_count": 23,
   "metadata": {
    "collapsed": true
   },
   "outputs": [],
   "source": [
    "# create a list of country names using the country codes as index to the data frame containing the country names\n",
    "countries = []\n",
    "for code in list_of_codes:\n",
    "    countrycode = code\n",
    "    countryname = df_countrytable_indexed.loc[code,'country'] \n",
    "    countries.append(countryname)"
   ]
  },
  {
   "cell_type": "code",
   "execution_count": 24,
   "metadata": {
    "collapsed": false
   },
   "outputs": [
    {
     "name": "stderr",
     "output_type": "stream",
     "text": [
      "C:\\Users\\sgior\\Anaconda2\\lib\\site-packages\\ipykernel\\__main__.py:2: SettingWithCopyWarning: \n",
      "A value is trying to be set on a copy of a slice from a DataFrame\n",
      "\n",
      "See the caveats in the documentation: http://pandas.pydata.org/pandas-docs/stable/indexing.html#indexing-view-versus-copy\n",
      "  from ipykernel import kernelapp as app\n"
     ]
    }
   ],
   "source": [
    "# add the list of countries to s\n",
    "s['countries'] = countries"
   ]
  },
  {
   "cell_type": "code",
   "execution_count": 25,
   "metadata": {
    "collapsed": false
   },
   "outputs": [
    {
     "data": {
      "text/plain": [
       "length                             6448\n",
       "river                          Amazonas\n",
       "countrycode                    CO BR PE\n",
       "countries      [Colombia, Brazil, Peru]\n",
       "Name: 174, dtype: object"
      ]
     },
     "execution_count": 25,
     "metadata": {},
     "output_type": "execute_result"
    }
   ],
   "source": [
    "s"
   ]
  },
  {
   "cell_type": "code",
   "execution_count": null,
   "metadata": {
    "collapsed": true
   },
   "outputs": [],
   "source": []
  }
 ],
 "metadata": {
  "anaconda-cloud": {},
  "kernelspec": {
   "display_name": "Python [conda root]",
   "language": "python",
   "name": "conda-root-py"
  },
  "language_info": {
   "codemirror_mode": {
    "name": "ipython",
    "version": 2
   },
   "file_extension": ".py",
   "mimetype": "text/x-python",
   "name": "python",
   "nbconvert_exporter": "python",
   "pygments_lexer": "ipython2",
   "version": "2.7.12"
  }
 },
 "nbformat": 4,
 "nbformat_minor": 1
}

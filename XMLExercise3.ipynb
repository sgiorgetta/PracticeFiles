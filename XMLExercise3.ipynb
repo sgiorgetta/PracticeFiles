{
 "cells": [
  {
   "cell_type": "markdown",
   "metadata": {},
   "source": [
    "# XML Exercise Answer to Question 3"
   ]
  },
  {
   "cell_type": "code",
   "execution_count": 1,
   "metadata": {
    "collapsed": true
   },
   "outputs": [],
   "source": [
    "from xml.etree import ElementTree as ET"
   ]
  },
  {
   "cell_type": "code",
   "execution_count": 2,
   "metadata": {
    "collapsed": true
   },
   "outputs": [],
   "source": [
    "document_tree = ET.parse( './data/mondial_database.xml' )\n",
    "root = document_tree.getroot()"
   ]
  },
  {
   "cell_type": "code",
   "execution_count": 4,
   "metadata": {
    "collapsed": true
   },
   "outputs": [],
   "source": [
    "# import pandas and numpy in case we need them\n",
    "import pandas as pd\n",
    "import numpy as np"
   ]
  },
  {
   "cell_type": "code",
   "execution_count": 5,
   "metadata": {
    "collapsed": false
   },
   "outputs": [],
   "source": [
    "# create a list of lists containing name of the ethnic group and number of people in that group from each country\n",
    "# then load that into a pandas dataframe\n",
    "ethnic_data = []\n",
    "\n",
    "for country in root.iterfind('country'):\n",
    "    countryname = country.find('name').text\n",
    "    ethnicgroups = country.findall('ethnicgroup')     \n",
    "    for elem in ethnicgroups:\n",
    "        groupname = elem.text\n",
    "        groupattribute = elem.attrib\n",
    "        grouppercentage= groupattribute.get('percentage')\n",
    "        popofcountry = country.find('population[@year=\"2011\"]')\n",
    "        if popofcountry != None:\n",
    "            numofpeopleingroup = float(grouppercentage)/100 * long(popofcountry.text)\n",
    "            ethnic_data.append([groupname, long(numofpeopleingroup)])\n",
    "        \n",
    "df = pd.DataFrame(ethnic_data, columns=['ethnic_group', 'Number_of_People'])    "
   ]
  },
  {
   "cell_type": "code",
   "execution_count": 6,
   "metadata": {
    "collapsed": false
   },
   "outputs": [
    {
     "data": {
      "text/html": [
       "<div>\n",
       "<table border=\"1\" class=\"dataframe\">\n",
       "  <thead>\n",
       "    <tr style=\"text-align: right;\">\n",
       "      <th></th>\n",
       "      <th>ethnic_group</th>\n",
       "      <th>Number_of_People</th>\n",
       "    </tr>\n",
       "  </thead>\n",
       "  <tbody>\n",
       "    <tr>\n",
       "      <th>0</th>\n",
       "      <td>Albanian</td>\n",
       "      <td>2660131</td>\n",
       "    </tr>\n",
       "    <tr>\n",
       "      <th>1</th>\n",
       "      <td>Greek</td>\n",
       "      <td>84004</td>\n",
       "    </tr>\n",
       "    <tr>\n",
       "      <th>2</th>\n",
       "      <td>Greek</td>\n",
       "      <td>10059145</td>\n",
       "    </tr>\n",
       "    <tr>\n",
       "      <th>3</th>\n",
       "      <td>Macedonian</td>\n",
       "      <td>1322387</td>\n",
       "    </tr>\n",
       "    <tr>\n",
       "      <th>4</th>\n",
       "      <td>Albanian</td>\n",
       "      <td>519068</td>\n",
       "    </tr>\n",
       "  </tbody>\n",
       "</table>\n",
       "</div>"
      ],
      "text/plain": [
       "  ethnic_group  Number_of_People\n",
       "0     Albanian           2660131\n",
       "1        Greek             84004\n",
       "2        Greek          10059145\n",
       "3   Macedonian           1322387\n",
       "4     Albanian            519068"
      ]
     },
     "execution_count": 6,
     "metadata": {},
     "output_type": "execute_result"
    }
   ],
   "source": [
    "df.head()"
   ]
  },
  {
   "cell_type": "code",
   "execution_count": 7,
   "metadata": {
    "collapsed": true
   },
   "outputs": [],
   "source": [
    "# group the data by ethnic group and then sum to get the total number of people in the world from each ethnic group\n",
    "ndf = df.groupby('ethnic_group').sum()"
   ]
  },
  {
   "cell_type": "code",
   "execution_count": 8,
   "metadata": {
    "collapsed": false
   },
   "outputs": [
    {
     "data": {
      "text/plain": [
       "2077854913L"
      ]
     },
     "execution_count": 8,
     "metadata": {},
     "output_type": "execute_result"
    }
   ],
   "source": [
    "# calculate the total population of the world\n",
    "worldpop = long(df['Number_of_People'].sum())\n",
    "worldpop"
   ]
  },
  {
   "cell_type": "code",
   "execution_count": 9,
   "metadata": {
    "collapsed": true
   },
   "outputs": [],
   "source": [
    "#create a new column called 'total percentage' that contains the fraction of the people in the ethnic group in world population\n",
    "# multiply by 100 to convert to percentage\n",
    "ndf['total_percentage'] = (ndf['Number_of_People'] / worldpop) * 100"
   ]
  },
  {
   "cell_type": "code",
   "execution_count": 11,
   "metadata": {
    "collapsed": false
   },
   "outputs": [
    {
     "data": {
      "text/html": [
       "<div>\n",
       "<table border=\"1\" class=\"dataframe\">\n",
       "  <thead>\n",
       "    <tr style=\"text-align: right;\">\n",
       "      <th></th>\n",
       "      <th>Number_of_People</th>\n",
       "      <th>total_percentage</th>\n",
       "    </tr>\n",
       "    <tr>\n",
       "      <th>ethnic_group</th>\n",
       "      <th></th>\n",
       "      <th></th>\n",
       "    </tr>\n",
       "  </thead>\n",
       "  <tbody>\n",
       "    <tr>\n",
       "      <th>Mongol</th>\n",
       "      <td>36325649</td>\n",
       "      <td>1.748228</td>\n",
       "    </tr>\n",
       "    <tr>\n",
       "      <th>Polish</th>\n",
       "      <td>38018418</td>\n",
       "      <td>1.829696</td>\n",
       "    </tr>\n",
       "    <tr>\n",
       "      <th>Persian</th>\n",
       "      <td>38326331</td>\n",
       "      <td>1.844514</td>\n",
       "    </tr>\n",
       "    <tr>\n",
       "      <th>Mediterranean Nordic</th>\n",
       "      <td>46815916</td>\n",
       "      <td>2.253089</td>\n",
       "    </tr>\n",
       "    <tr>\n",
       "      <th>English</th>\n",
       "      <td>52820300</td>\n",
       "      <td>2.542059</td>\n",
       "    </tr>\n",
       "    <tr>\n",
       "      <th>German</th>\n",
       "      <td>74278483</td>\n",
       "      <td>3.574768</td>\n",
       "    </tr>\n",
       "    <tr>\n",
       "      <th>Bengali</th>\n",
       "      <td>146776916</td>\n",
       "      <td>7.063867</td>\n",
       "    </tr>\n",
       "    <tr>\n",
       "      <th>African</th>\n",
       "      <td>166391980</td>\n",
       "      <td>8.007873</td>\n",
       "    </tr>\n",
       "    <tr>\n",
       "      <th>Dravidian</th>\n",
       "      <td>302713744</td>\n",
       "      <td>14.568570</td>\n",
       "    </tr>\n",
       "    <tr>\n",
       "      <th>Indo-Aryan</th>\n",
       "      <td>871815583</td>\n",
       "      <td>41.957481</td>\n",
       "    </tr>\n",
       "  </tbody>\n",
       "</table>\n",
       "</div>"
      ],
      "text/plain": [
       "                      Number_of_People  total_percentage\n",
       "ethnic_group                                            \n",
       "Mongol                        36325649          1.748228\n",
       "Polish                        38018418          1.829696\n",
       "Persian                       38326331          1.844514\n",
       "Mediterranean Nordic          46815916          2.253089\n",
       "English                       52820300          2.542059\n",
       "German                        74278483          3.574768\n",
       "Bengali                      146776916          7.063867\n",
       "African                      166391980          8.007873\n",
       "Dravidian                    302713744         14.568570\n",
       "Indo-Aryan                   871815583         41.957481"
      ]
     },
     "execution_count": 11,
     "metadata": {},
     "output_type": "execute_result"
    }
   ],
   "source": [
    "# sort by 'total_percentage' and grab the last 10 groups which contain the 10 most highest percentages\n",
    "ndf.sort_values(by='total_percentage').tail(10)"
   ]
  },
  {
   "cell_type": "code",
   "execution_count": null,
   "metadata": {
    "collapsed": true
   },
   "outputs": [],
   "source": []
  }
 ],
 "metadata": {
  "anaconda-cloud": {},
  "kernelspec": {
   "display_name": "Python [conda root]",
   "language": "python",
   "name": "conda-root-py"
  },
  "language_info": {
   "codemirror_mode": {
    "name": "ipython",
    "version": 2
   },
   "file_extension": ".py",
   "mimetype": "text/x-python",
   "name": "python",
   "nbconvert_exporter": "python",
   "pygments_lexer": "ipython2",
   "version": "2.7.12"
  }
 },
 "nbformat": 4,
 "nbformat_minor": 1
}

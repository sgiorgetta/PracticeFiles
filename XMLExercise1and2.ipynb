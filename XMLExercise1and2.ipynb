{
 "cells": [
  {
   "cell_type": "code",
   "execution_count": 1,
   "metadata": {
    "collapsed": true
   },
   "outputs": [],
   "source": [
    "# import pandas and numpy in case we need them\n",
    "import pandas as pd\n",
    "import numpy as np"
   ]
  },
  {
   "cell_type": "code",
   "execution_count": 2,
   "metadata": {
    "collapsed": true
   },
   "outputs": [],
   "source": [
    "import sys\n",
    "reload(sys)\n",
    "sys.setdefaultencoding('utf-8')"
   ]
  },
  {
   "cell_type": "code",
   "execution_count": 3,
   "metadata": {
    "collapsed": true
   },
   "outputs": [],
   "source": [
    "from xml.etree import ElementTree as ET"
   ]
  },
  {
   "cell_type": "code",
   "execution_count": 4,
   "metadata": {
    "collapsed": true
   },
   "outputs": [],
   "source": [
    "# parse the larger xml file\n",
    "document_tree = ET.parse( './data/mondial_database.xml' )\n",
    "root = document_tree.getroot()"
   ]
  },
  {
   "cell_type": "markdown",
   "metadata": {},
   "source": [
    "# Answer to Question 1 of Exercise"
   ]
  },
  {
   "cell_type": "code",
   "execution_count": 5,
   "metadata": {
    "collapsed": true
   },
   "outputs": [],
   "source": [
    "# create a list of lists containing the infant mortality rate and country name\n",
    "imr_data = []\n",
    "# specify the search for subelement country that also contains subelement infant mortality by using 'country[infant_mortality]'\n",
    "for country in root.iterfind('country[infant_mortality]'):\n",
    "    name = country.find('name').text\n",
    "    imr = country.find('infant_mortality')\n",
    "    # convert imr to floating point and append imr and name to the list    \n",
    "    imr_data.append([float(imr.text),name]) \n",
    "#  sort by infant mortality rate    \n",
    "imr_data.sort()"
   ]
  },
  {
   "cell_type": "code",
   "execution_count": 6,
   "metadata": {
    "collapsed": false
   },
   "outputs": [
    {
     "data": {
      "text/plain": [
       "[[1.81, 'Monaco'],\n",
       " [2.13, 'Japan'],\n",
       " [2.48, 'Bermuda'],\n",
       " [2.48, 'Norway'],\n",
       " [2.53, 'Singapore'],\n",
       " [2.6, 'Sweden'],\n",
       " [2.63, 'Czech Republic'],\n",
       " [2.73, 'Hong Kong'],\n",
       " [3.13, 'Macao'],\n",
       " [3.15, 'Iceland']]"
      ]
     },
     "execution_count": 6,
     "metadata": {},
     "output_type": "execute_result"
    }
   ],
   "source": [
    "# slice off top 10 lists which will contain the 10 countries with the lowest infant mortality rates\n",
    "imr_data[0:10]"
   ]
  },
  {
   "cell_type": "markdown",
   "metadata": {},
   "source": [
    "# Answer to Question 2 of Exercise"
   ]
  },
  {
   "cell_type": "code",
   "execution_count": 9,
   "metadata": {
    "collapsed": false
   },
   "outputs": [],
   "source": [
    "# create a list of lists containing the population of a city, the city and country names as of the year 2011\n",
    "pop_data = []\n",
    "for country in root.iterfind('country'):\n",
    "    country_name = country.find('name').text\n",
    "    #search all subelements below country for city using .//\n",
    "    for city in country.iterfind('.//city[population]'):\n",
    "        city_name = city.find('name').text\n",
    "        # find population element with attribute year=\"2011\" \n",
    "        population = city.find('.//population[@year=\"2011\"]')\n",
    "        # only append to the list if population is not empty\n",
    "        if population != None:\n",
    "            pop_data.append([int(population.text), city_name, country_name]) \n",
    "# sort by population                               \n",
    "pop_data.sort()                              "
   ]
  },
  {
   "cell_type": "code",
   "execution_count": 10,
   "metadata": {
    "collapsed": false
   },
   "outputs": [
    {
     "data": {
      "text/plain": [
       "[[4605992, 'Sydney', 'Australia'],\n",
       " [4646732, 'Chennai', 'India'],\n",
       " [5000000, 'Luanda', 'Angola'],\n",
       " [5577940, 'Ahmadabad', 'India'],\n",
       " [6731790, 'Hyderabad', 'India'],\n",
       " [7423137, 'Dhaka', 'Bangladesh'],\n",
       " [8154051, 'Tehran', 'Iran'],\n",
       " [8250205, 'London', 'United Kingdom'],\n",
       " [8443675, 'Bangalore', 'India'],\n",
       " [11034555, 'Delhi', 'India']]"
      ]
     },
     "execution_count": 10,
     "metadata": {},
     "output_type": "execute_result"
    }
   ],
   "source": [
    "# slice off the last 10 lists which will contain the cities with highest populations as of 2011\n",
    "pop_data[-11:-1]"
   ]
  },
  {
   "cell_type": "code",
   "execution_count": null,
   "metadata": {
    "collapsed": true
   },
   "outputs": [],
   "source": []
  }
 ],
 "metadata": {
  "kernelspec": {
   "display_name": "Python [conda root]",
   "language": "python",
   "name": "conda-root-py"
  },
  "language_info": {
   "codemirror_mode": {
    "name": "ipython",
    "version": 2
   },
   "file_extension": ".py",
   "mimetype": "text/x-python",
   "name": "python",
   "nbconvert_exporter": "python",
   "pygments_lexer": "ipython2",
   "version": "2.7.12"
  }
 },
 "nbformat": 4,
 "nbformat_minor": 1
}
